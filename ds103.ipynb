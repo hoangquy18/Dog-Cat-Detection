{
 "cells": [
  {
   "cell_type": "code",
   "execution_count": 2,
   "metadata": {},
   "outputs": [],
   "source": [
    "import numpy as n\n",
    "import tkinter as tk "
   ]
  },
  {
   "cell_type": "code",
   "execution_count": 1,
   "metadata": {},
   "outputs": [],
   "source": [
    "import tkinter as tk\n",
    "from tkinter import ttk\n",
    "from tkinter import filedialog as fd\n",
    "from tkinter.messagebox import showinfo\n",
    "\n",
    "# create the root window\n",
    "root = tk.Tk()\n",
    "root.title('Tkinter Open File Dialog')\n",
    "root.resizable(False, False)\n",
    "root.geometry('300x150')\n",
    "\n",
    "\n",
    "def select_file():\n",
    "    filetypes = (\n",
    "        ('text files', '*.txt'),\n",
    "        ('All files', '*.*')\n",
    "    )\n",
    "\n",
    "    filename = fd.askopenfilename(\n",
    "        title='Open a file',\n",
    "        initialdir='/',\n",
    "        filetypes=filetypes)\n",
    "\n",
    "    showinfo(\n",
    "        title='Selected File',\n",
    "        message=filename\n",
    "    )\n",
    "\n",
    "\n",
    "# open button\n",
    "open_button = ttk.Button(\n",
    "    root,\n",
    "    text='Open a File',\n",
    "    command=select_file\n",
    ")\n",
    "\n",
    "open_button.pack(expand=True)\n",
    "\n",
    "\n",
    "# run the application\n",
    "root.mainloop()\n"
   ]
  },
  {
   "cell_type": "markdown",
   "metadata": {},
   "source": [
    "python yolov5/detect.py --weights ./yolov5/runs/train/exp31/weights/best.pt --img 640 --conf 0.25 --source ./t5.jpg"
   ]
  }
 ],
 "metadata": {
  "interpreter": {
   "hash": "6bfd7e43db9e4734bb66d5adfb403b43705154d42fa8cc6fabe3ef8413fb5b5c"
  },
  "kernelspec": {
   "display_name": "Python 3.9.7 ('base')",
   "language": "python",
   "name": "python3"
  },
  "language_info": {
   "codemirror_mode": {
    "name": "ipython",
    "version": 3
   },
   "file_extension": ".py",
   "mimetype": "text/x-python",
   "name": "python",
   "nbconvert_exporter": "python",
   "pygments_lexer": "ipython3",
   "version": "3.9.7"
  },
  "orig_nbformat": 4
 },
 "nbformat": 4,
 "nbformat_minor": 2
}
